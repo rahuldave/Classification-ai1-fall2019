{
 "cells": [
  {
   "cell_type": "markdown",
   "metadata": {},
   "source": [
    "# Classification, Probabilities, and the Confusion Matrix"
   ]
  },
  {
   "cell_type": "code",
   "execution_count": 1,
   "metadata": {
    "collapsed": true
   },
   "outputs": [
    {
     "name": "stderr",
     "output_type": "stream",
     "text": [
      "//anaconda/envs/py3l/lib/python3.6/site-packages/matplotlib/__init__.py:855: MatplotlibDeprecationWarning: \n",
      "examples.directory is deprecated; in the future, examples will be found relative to the 'datapath' directory.\n",
      "  \"found relative to the 'datapath' directory.\".format(key))\n",
      "//anaconda/envs/py3l/lib/python3.6/site-packages/matplotlib/__init__.py:846: MatplotlibDeprecationWarning: \n",
      "The text.latex.unicode rcparam was deprecated in Matplotlib 2.2 and will be removed in 3.1.\n",
      "  \"2.2\", name=key, obj_type=\"rcparam\", addendum=addendum)\n",
      "//anaconda/envs/py3l/lib/python3.6/site-packages/seaborn/apionly.py:9: UserWarning: As seaborn no longer sets a default style on import, the seaborn.apionly module is deprecated. It will be removed in a future version.\n",
      "  warnings.warn(msg, UserWarning)\n"
     ]
    }
   ],
   "source": [
    "%matplotlib inline\n",
    "import numpy as np\n",
    "import scipy as sp\n",
    "import matplotlib as mpl\n",
    "import matplotlib.cm as cm\n",
    "import matplotlib.pyplot as plt\n",
    "import pandas as pd\n",
    "import seaborn.apionly as sns"
   ]
  },
  {
   "cell_type": "markdown",
   "metadata": {},
   "source": [
    "We are going to encapsulate some code into handy-dandy functions that we can use for easier model training using cross-validation"
   ]
  },
  {
   "cell_type": "code",
   "execution_count": 64,
   "metadata": {
    "collapsed": true
   },
   "outputs": [],
   "source": [
    "from sklearn.model_selection import GridSearchCV\n",
    "from sklearn.model_selection import train_test_split\n",
    "from sklearn.metrics import confusion_matrix\n",
    "from sklearn.preprocessing import StandardScaler\n",
    "def cv_optimize(clf, parameters, X, y, n_jobs=1, n_folds=5, score_func=None):\n",
    "    if score_func:\n",
    "        gs = GridSearchCV(clf, param_grid=parameters, cv=n_folds, n_jobs=n_jobs, scoring=score_func)\n",
    "    else:\n",
    "        gs = GridSearchCV(clf, param_grid=parameters, n_jobs=n_jobs, cv=n_folds)\n",
    "    gs.fit(X, y)\n",
    "    print(\"BEST\", gs.best_params_, gs.best_score_)\n",
    "    best = gs.best_estimator_\n",
    "    return best\n",
    "def do_classify(clf, parameters, indf, featurenames, targetname, target1val,mode=\"mask\", reuse_split=None, score_func=None, n_folds=5, n_jobs=1):\n",
    "    \"\"\"\n",
    "    Classification made simple (or is it more complex?)\n",
    "    THIS WORKS FOR 2 Class Classification problems only\n",
    "    parameters: parameter grid in the sklearn style\n",
    "    indf: dataframe you feed in\n",
    "    featurenames: list of columnames corresponding to features you want in your model\n",
    "    targetname: the column you want to use as target\n",
    "    target1val: the value of the \"targetname\" column\n",
    "    mode: mask or split. mask a boolean mask to choose train/test or\n",
    "        split a dictionary with keys Xtrain/Xtest/ytrain/ytest and values existing\n",
    "        training and test sets in the canonical form\n",
    "    reuse_split: the actual mask above or the actuall ditionary, depending upon which\n",
    "        modu you chose\n",
    "    score_func: this is from GridSearchCV\n",
    "    n_folds: cross val folds\n",
    "    n_jobs: mumber of processes to use in cross-validation\n",
    "    \n",
    "    We return classifier, and the train and test sets. We print accuracies\n",
    "    and the confusion matrix\n",
    "    \"\"\"\n",
    "    subdf=indf[featurenames]\n",
    "    X=subdf.values\n",
    "    y=(indf[targetname].values==target1val)*1\n",
    "    if mode==\"mask\":\n",
    "        print(\"using mask\")\n",
    "        mask=reuse_split\n",
    "        Xtrain, Xtest, ytrain, ytest = X[mask], X[~mask], y[mask], y[~mask]\n",
    "    else:\n",
    "        print(\"using reuse split\")\n",
    "        Xtrain, Xtest, ytrain, ytest = reuse_split['Xtrain'], reuse_split['Xtest'], reuse_split['ytrain'], reuse_split['ytest']\n",
    "    ss = StandardScaler().fit(Xtrain) # make sure you only use Xtrain to get mean and standard dev\n",
    "    # otherwise you have leaked test set information\n",
    "    Xtrain = ss.transform(Xtrain)\n",
    "    Xtest = ss.transform(Xtest)\n",
    "    if parameters:\n",
    "        clf = cv_optimize(clf, parameters, Xtrain, ytrain, n_jobs=n_jobs, n_folds=n_folds, score_func=score_func)\n",
    "    clf=clf.fit(Xtrain, ytrain)\n",
    "    training_accuracy = clf.score(Xtrain, ytrain)\n",
    "    test_accuracy = clf.score(Xtest, ytest)\n",
    "    print(\"############# based on standard predict ################\")\n",
    "    print(\"Accuracy on training data: %0.2f\" % (training_accuracy))\n",
    "    print(\"Accuracy on test data:     %0.2f\" % (test_accuracy))\n",
    "    print(confusion_matrix(ytest, clf.predict(Xtest)))\n",
    "    print(\"########################################################\")\n",
    "    return clf, Xtrain, ytrain, Xtest, ytest"
   ]
  },
  {
   "cell_type": "code",
   "execution_count": 3,
   "metadata": {
    "collapsed": true
   },
   "outputs": [],
   "source": [
    "from matplotlib.colors import ListedColormap\n",
    "cmap_light = ListedColormap(['#FFAAAA', '#AAFFAA', '#AAAAFF'])\n",
    "cmap_bold = ListedColormap(['#FF0000', '#00FF00', '#0000FF'])\n",
    "cm = plt.cm.RdBu\n",
    "cm_bright = ListedColormap(['#FF0000', '#0000FF'])\n",
    "\n",
    "def points_plot(ax, Xtr, Xte, ytr, yte, clf, mesh=True, colorscale=cmap_light, cdiscrete=cmap_bold, alpha=0.3, psize=10, zfunc=False):\n",
    "    h = .02\n",
    "    X=np.concatenate((Xtr, Xte))\n",
    "    x_min, x_max = X[:, 0].min() - .5, X[:, 0].max() + .5\n",
    "    y_min, y_max = X[:, 1].min() - .5, X[:, 1].max() + .5\n",
    "    xx, yy = np.meshgrid(np.linspace(x_min, x_max, 100),\n",
    "                         np.linspace(y_min, y_max, 100))\n",
    "\n",
    "    #plt.figure(figsize=(10,6))\n",
    "    if mesh:\n",
    "        if zfunc:\n",
    "            p0 = clf.predict_proba(np.c_[xx.ravel(), yy.ravel()])[:, 0]\n",
    "            p1 = clf.predict_proba(np.c_[xx.ravel(), yy.ravel()])[:, 1]\n",
    "            Z=zfunc(p0, p1)\n",
    "        else:\n",
    "            Z = clf.predict(np.c_[xx.ravel(), yy.ravel()])\n",
    "        Z = Z.reshape(xx.shape)\n",
    "        plt.pcolormesh(xx, yy, Z, cmap=cmap_light, alpha=alpha, axes=ax)\n",
    "    ax.scatter(Xtr[:, 0], Xtr[:, 1], c=ytr-1, cmap=cmap_bold, s=psize, alpha=alpha,edgecolor=\"k\")\n",
    "    # and testing points\n",
    "    yact=clf.predict(Xte)\n",
    "    ax.scatter(Xte[:, 0], Xte[:, 1], c=yte-1, cmap=cmap_bold, alpha=alpha, marker=\"s\", s=psize+10)\n",
    "    ax.set_xlim(xx.min(), xx.max())\n",
    "    ax.set_ylim(yy.min(), yy.max())\n",
    "    return ax,xx,yy"
   ]
  },
  {
   "cell_type": "code",
   "execution_count": 4,
   "metadata": {
    "collapsed": true
   },
   "outputs": [],
   "source": [
    "def points_plot_prob(ax, Xtr, Xte, ytr, yte, clf, colorscale=cmap_light, cdiscrete=cmap_bold, ccolor=cm, psize=10, alpha=0.1, prob=True):\n",
    "    ax,xx,yy = points_plot(ax, Xtr, Xte, ytr, yte, clf, mesh=False, colorscale=colorscale, cdiscrete=cdiscrete, psize=psize, alpha=alpha) \n",
    "    if prob:\n",
    "        Z = clf.predict_proba(np.c_[xx.ravel(), yy.ravel()])[:, 1]\n",
    "    else:\n",
    "        Z = clf.decision_function(np.c_[xx.ravel(), yy.ravel()])\n",
    "    Z = Z.reshape(xx.shape)\n",
    "    plt.contourf(xx, yy, Z, cmap=ccolor, alpha=.2, axes=ax)\n",
    "    cs2 = plt.contour(xx, yy, Z, cmap=ccolor, alpha=.6, axes=ax)\n",
    "    plt.clabel(cs2, fmt = '%2.1f', colors = 'k', fontsize=14)\n",
    "    return ax "
   ]
  },
  {
   "cell_type": "markdown",
   "metadata": {},
   "source": [
    "## Setting up the data\n",
    "\n",
    "(I encountered this dataset in Conway, Drew, and John White. Machine learning for hackers. \" O'Reilly Media, Inc.\", 2012.)"
   ]
  },
  {
   "cell_type": "code",
   "execution_count": 5,
   "metadata": {
    "collapsed": false
   },
   "outputs": [
    {
     "data": {
      "text/html": [
       "<div>\n",
       "<style scoped>\n",
       "    .dataframe tbody tr th:only-of-type {\n",
       "        vertical-align: middle;\n",
       "    }\n",
       "\n",
       "    .dataframe tbody tr th {\n",
       "        vertical-align: top;\n",
       "    }\n",
       "\n",
       "    .dataframe thead th {\n",
       "        text-align: right;\n",
       "    }\n",
       "</style>\n",
       "<table border=\"1\" class=\"dataframe\">\n",
       "  <thead>\n",
       "    <tr style=\"text-align: right;\">\n",
       "      <th></th>\n",
       "      <th>Gender</th>\n",
       "      <th>Height</th>\n",
       "      <th>Weight</th>\n",
       "    </tr>\n",
       "  </thead>\n",
       "  <tbody>\n",
       "    <tr>\n",
       "      <th>0</th>\n",
       "      <td>Male</td>\n",
       "      <td>73.847017</td>\n",
       "      <td>241.893563</td>\n",
       "    </tr>\n",
       "    <tr>\n",
       "      <th>1</th>\n",
       "      <td>Male</td>\n",
       "      <td>68.781904</td>\n",
       "      <td>162.310473</td>\n",
       "    </tr>\n",
       "    <tr>\n",
       "      <th>2</th>\n",
       "      <td>Male</td>\n",
       "      <td>74.110105</td>\n",
       "      <td>212.740856</td>\n",
       "    </tr>\n",
       "    <tr>\n",
       "      <th>3</th>\n",
       "      <td>Male</td>\n",
       "      <td>71.730978</td>\n",
       "      <td>220.042470</td>\n",
       "    </tr>\n",
       "    <tr>\n",
       "      <th>4</th>\n",
       "      <td>Male</td>\n",
       "      <td>69.881796</td>\n",
       "      <td>206.349801</td>\n",
       "    </tr>\n",
       "  </tbody>\n",
       "</table>\n",
       "</div>"
      ],
      "text/plain": [
       "  Gender     Height      Weight\n",
       "0   Male  73.847017  241.893563\n",
       "1   Male  68.781904  162.310473\n",
       "2   Male  74.110105  212.740856\n",
       "3   Male  71.730978  220.042470\n",
       "4   Male  69.881796  206.349801"
      ]
     },
     "execution_count": 5,
     "metadata": {},
     "output_type": "execute_result"
    }
   ],
   "source": [
    "dfhw=pd.read_csv(\"data/01_heights_weights_genders.csv\")\n",
    "dfhw.head()"
   ]
  },
  {
   "cell_type": "code",
   "execution_count": 6,
   "metadata": {},
   "outputs": [
    {
     "data": {
      "text/plain": [
       "(10000, 3)"
      ]
     },
     "execution_count": 6,
     "metadata": {},
     "output_type": "execute_result"
    }
   ],
   "source": [
    "dfhw.shape"
   ]
  },
  {
   "cell_type": "markdown",
   "metadata": {},
   "source": [
    "We sample 500 points from 10,000, since we actually want to see trends clearly on the plots"
   ]
  },
  {
   "cell_type": "code",
   "execution_count": 7,
   "metadata": {
    "collapsed": false
   },
   "outputs": [
    {
     "data": {
      "text/plain": [
       "234"
      ]
     },
     "execution_count": 7,
     "metadata": {},
     "output_type": "execute_result"
    }
   ],
   "source": [
    "df=dfhw.sample(500, replace=False)\n",
    "np.sum(df.Gender==\"Male\")"
   ]
  },
  {
   "cell_type": "code",
   "execution_count": 8,
   "metadata": {},
   "outputs": [
    {
     "data": {
      "text/plain": [
       "(500, 3)"
      ]
     },
     "execution_count": 8,
     "metadata": {},
     "output_type": "execute_result"
    }
   ],
   "source": [
    "df.shape"
   ]
  },
  {
   "cell_type": "markdown",
   "metadata": {},
   "source": [
    "We split the data into training and test sets...and setup a mask so we can reuse these splits later"
   ]
  },
  {
   "cell_type": "code",
   "execution_count": 9,
   "metadata": {
    "collapsed": false
   },
   "outputs": [
    {
     "name": "stderr",
     "output_type": "stream",
     "text": [
      "//anaconda/envs/py3l/lib/python3.6/site-packages/sklearn/model_selection/_split.py:2179: FutureWarning: From version 0.21, test_size will always complement train_size unless both are specified.\n",
      "  FutureWarning)\n"
     ]
    },
    {
     "data": {
      "text/plain": [
       "array([False,  True,  True, False, False,  True, False,  True,  True,\n",
       "        True])"
      ]
     },
     "execution_count": 9,
     "metadata": {},
     "output_type": "execute_result"
    }
   ],
   "source": [
    "itrain, itest = train_test_split(range(df.shape[0]), train_size=0.6)\n",
    "mask=np.ones(df.shape[0], dtype='int')\n",
    "mask[itrain]=1\n",
    "mask[itest]=0\n",
    "mask = (mask==1)\n",
    "mask[:10]"
   ]
  },
  {
   "cell_type": "markdown",
   "metadata": {},
   "source": [
    "## Logistic regression\n",
    "\n",
    "\n",
    "$$\n",
    "\\renewcommand{\\like}{{\\cal L}}\n",
    "\\renewcommand{\\loglike}{{\\ell}}\n",
    "\\renewcommand{\\err}{{\\cal E}}\n",
    "\\renewcommand{\\dat}{{\\cal D}}\n",
    "\\renewcommand{\\hyp}{{\\cal H}}\n",
    "\\renewcommand{\\Ex}[2]{E_{#1}[#2]}\n",
    "\\renewcommand{\\x}{{\\mathbf x}}\n",
    "\\renewcommand{\\v}[1]{{\\mathbf #1}}\n",
    "$$\n",
    "\n",
    "\n",
    "Previously, we saw the loss for Logistic regression and noted that it is a loss for probability estimation...and not a loss for making decisions. We'll go into these dual losses soon..\n",
    "\n",
    "$$R_{\\cal{D}}(h(x)) = -\\loglike = -log \\like = - log(P(y|\\v{x},\\v{w})).$$\n",
    "\n",
    "\n",
    "Thus\n",
    "\n",
    "\\begin{eqnarray*}\n",
    "R_{\\cal{D}}(h(x)) &=& -log\\left(\\prod_{y_i \\in \\cal{D}} h(\\v{w}\\cdot\\v{x_i})^{y_i} \\left(1 - h(\\v{w}\\cdot\\v{x_i}) \\right)^{(1-y_i)}\\right)\\\\\n",
    "                  &=& -\\sum_{y_i \\in \\cal{D}} log\\left(h(\\v{w}\\cdot\\v{x_i})^{y_i} \\left(1 - h(\\v{w}\\cdot\\v{x_i}) \\right)^{(1-y_i)}\\right)\\\\                  \n",
    "                  &=& -\\sum_{y_i \\in \\cal{D}} log\\,h(\\v{w}\\cdot\\v{x_i})^{y_i} + log\\,\\left(1 - h(\\v{w}\\cdot\\v{x_i}) \\right)^{(1-y_i)}\\\\\n",
    "                  &=& - \\sum_{y_i \\in \\cal{D}} \\left ( y_i log(h(\\v{w}\\cdot\\v{x})) + ( 1 - y_i) log(1 - h(\\v{w}\\cdot\\v{x})) \\right )\n",
    "\\end{eqnarray*}\n",
    "\n",
    "where\n",
    "\n",
    "$$h(z) = \\frac{1}{1 + e^{-z}}.$$\n",
    "\n"
   ]
  },
  {
   "cell_type": "markdown",
   "metadata": {},
   "source": [
    "Notice that its L2 regularized.... by default"
   ]
  },
  {
   "cell_type": "code",
   "execution_count": 10,
   "metadata": {},
   "outputs": [
    {
     "data": {
      "text/html": [
       "<div>\n",
       "<style scoped>\n",
       "    .dataframe tbody tr th:only-of-type {\n",
       "        vertical-align: middle;\n",
       "    }\n",
       "\n",
       "    .dataframe tbody tr th {\n",
       "        vertical-align: top;\n",
       "    }\n",
       "\n",
       "    .dataframe thead th {\n",
       "        text-align: right;\n",
       "    }\n",
       "</style>\n",
       "<table border=\"1\" class=\"dataframe\">\n",
       "  <thead>\n",
       "    <tr style=\"text-align: right;\">\n",
       "      <th></th>\n",
       "      <th>Gender</th>\n",
       "      <th>Height</th>\n",
       "      <th>Weight</th>\n",
       "    </tr>\n",
       "  </thead>\n",
       "  <tbody>\n",
       "    <tr>\n",
       "      <th>9092</th>\n",
       "      <td>Female</td>\n",
       "      <td>60.091287</td>\n",
       "      <td>106.012216</td>\n",
       "    </tr>\n",
       "    <tr>\n",
       "      <th>4423</th>\n",
       "      <td>Male</td>\n",
       "      <td>69.549700</td>\n",
       "      <td>184.494828</td>\n",
       "    </tr>\n",
       "    <tr>\n",
       "      <th>2788</th>\n",
       "      <td>Male</td>\n",
       "      <td>68.092965</td>\n",
       "      <td>169.936601</td>\n",
       "    </tr>\n",
       "    <tr>\n",
       "      <th>5758</th>\n",
       "      <td>Female</td>\n",
       "      <td>67.382475</td>\n",
       "      <td>158.817502</td>\n",
       "    </tr>\n",
       "    <tr>\n",
       "      <th>1431</th>\n",
       "      <td>Male</td>\n",
       "      <td>67.565864</td>\n",
       "      <td>178.371834</td>\n",
       "    </tr>\n",
       "  </tbody>\n",
       "</table>\n",
       "</div>"
      ],
      "text/plain": [
       "      Gender     Height      Weight\n",
       "9092  Female  60.091287  106.012216\n",
       "4423    Male  69.549700  184.494828\n",
       "2788    Male  68.092965  169.936601\n",
       "5758  Female  67.382475  158.817502\n",
       "1431    Male  67.565864  178.371834"
      ]
     },
     "execution_count": 10,
     "metadata": {},
     "output_type": "execute_result"
    }
   ],
   "source": [
    "df.head()"
   ]
  },
  {
   "cell_type": "code",
   "execution_count": 31,
   "metadata": {},
   "outputs": [],
   "source": [
    "X_train = df.iloc[itrain][['Height', 'Weight']].values\n",
    "X_test = df.iloc[itest][['Height', 'Weight']].values\n",
    "y_train = 1*(df.iloc[itrain]['Gender']=='Male')\n",
    "y_test = 1*(df.iloc[itest]['Gender']=='Male')"
   ]
  },
  {
   "cell_type": "code",
   "execution_count": 19,
   "metadata": {},
   "outputs": [
    {
     "data": {
      "text/plain": [
       "((300, 2), (200, 2))"
      ]
     },
     "execution_count": 19,
     "metadata": {},
     "output_type": "execute_result"
    }
   ],
   "source": [
    "X_train.shape, X_test.shape"
   ]
  },
  {
   "cell_type": "code",
   "execution_count": 33,
   "metadata": {},
   "outputs": [
    {
     "name": "stderr",
     "output_type": "stream",
     "text": [
      "//anaconda/envs/py3l/lib/python3.6/site-packages/sklearn/linear_model/logistic.py:433: FutureWarning: Default solver will be changed to 'lbfgs' in 0.22. Specify a solver to silence this warning.\n",
      "  FutureWarning)\n"
     ]
    },
    {
     "data": {
      "text/plain": [
       "LogisticRegression(C=10000, class_weight=None, dual=False, fit_intercept=True,\n",
       "          intercept_scaling=1, max_iter=100, multi_class='warn',\n",
       "          n_jobs=None, penalty='l2', random_state=None, solver='warn',\n",
       "          tol=0.0001, verbose=0, warm_start=False)"
      ]
     },
     "execution_count": 33,
     "metadata": {},
     "output_type": "execute_result"
    }
   ],
   "source": [
    "from sklearn.linear_model import LogisticRegression\n",
    "clf = LogisticRegression(C=10000)\n",
    "clf.fit(X_train, y_train)"
   ]
  },
  {
   "cell_type": "code",
   "execution_count": 35,
   "metadata": {},
   "outputs": [],
   "source": [
    "predictions = clf.predict(X_test)"
   ]
  },
  {
   "cell_type": "code",
   "execution_count": 38,
   "metadata": {},
   "outputs": [
    {
     "data": {
      "text/plain": [
       "0.055"
      ]
     },
     "execution_count": 38,
     "metadata": {},
     "output_type": "execute_result"
    }
   ],
   "source": [
    "np.mean(np.abs(predictions - y_test))"
   ]
  },
  {
   "cell_type": "code",
   "execution_count": 40,
   "metadata": {},
   "outputs": [
    {
     "data": {
      "text/plain": [
       "0.945"
      ]
     },
     "execution_count": 40,
     "metadata": {},
     "output_type": "execute_result"
    }
   ],
   "source": [
    "clf.score(X_test, y_test)"
   ]
  },
  {
   "cell_type": "code",
   "execution_count": 41,
   "metadata": {},
   "outputs": [
    {
     "data": {
      "text/plain": [
       "0.945"
      ]
     },
     "execution_count": 41,
     "metadata": {},
     "output_type": "execute_result"
    }
   ],
   "source": [
    "from sklearn.metrics import accuracy_score\n",
    "accuracy_score(y_test, predictions)"
   ]
  },
  {
   "cell_type": "code",
   "execution_count": 43,
   "metadata": {},
   "outputs": [
    {
     "data": {
      "text/plain": [
       "array([9.24452051e-01, 9.95399686e-01, 9.97476553e-01, 9.87469098e-01,\n",
       "       2.24382893e-02, 9.99708440e-01, 3.69980435e-04, 8.55066916e-02,\n",
       "       1.18850018e-03, 9.98376356e-01, 4.55699970e-03, 2.45962030e-02,\n",
       "       9.41715489e-01, 2.00473682e-03, 3.79053690e-02, 9.99269102e-01,\n",
       "       8.54002470e-01, 9.99403211e-01, 5.36087030e-02, 6.51831583e-01,\n",
       "       2.83606896e-02, 6.04490171e-01, 9.99976325e-01, 2.64433518e-03,\n",
       "       7.20595395e-02, 3.01536812e-01, 1.99811599e-04, 2.42523829e-04,\n",
       "       9.28137840e-01, 7.27014442e-03, 1.70797742e-04, 1.20047819e-03,\n",
       "       9.99279854e-01, 9.84516675e-01, 9.99967353e-01, 9.97938937e-01,\n",
       "       1.26970575e-01, 9.95622739e-01, 3.13849556e-02, 9.19417577e-01,\n",
       "       6.46391558e-01, 9.40714100e-03, 5.70264195e-02, 7.08455608e-03,\n",
       "       1.60646216e-03, 8.72584646e-01, 2.77634612e-04, 9.94235173e-01,\n",
       "       9.99508372e-01, 3.03252540e-01, 3.63056469e-05, 9.98712179e-01,\n",
       "       9.29391181e-01, 4.96198832e-02, 1.21944818e-03, 1.08963828e-04,\n",
       "       9.99862850e-01, 9.23303561e-03, 9.99955062e-01, 9.18697406e-01,\n",
       "       1.22953852e-02, 9.97905271e-01, 8.12164762e-01, 2.81196384e-02,\n",
       "       5.04124536e-01, 2.22297264e-01, 3.05679383e-01, 8.70421514e-03,\n",
       "       1.40143136e-04, 9.98564493e-01, 9.99980559e-01, 9.42933272e-01,\n",
       "       3.02131495e-02, 6.50085858e-02, 3.60694481e-01, 1.90292673e-03,\n",
       "       3.39637026e-01, 8.52567440e-01, 9.87568146e-01, 2.21912106e-03,\n",
       "       9.84884333e-01, 1.74480476e-03, 4.29303795e-02, 3.20620016e-03,\n",
       "       9.98091270e-01, 8.37165277e-04, 9.63807208e-01, 7.96591322e-01,\n",
       "       4.27847721e-02, 1.46502714e-02, 9.99734671e-01, 6.23559232e-03,\n",
       "       9.82634693e-01, 1.21716627e-01, 8.75692579e-02, 9.27987891e-01,\n",
       "       9.93669460e-01, 5.64505885e-02, 2.16825953e-01, 9.40744117e-01,\n",
       "       3.15086131e-03, 9.10606323e-01, 4.82919300e-01, 9.51578055e-01,\n",
       "       9.99978203e-01, 1.96747029e-03, 2.47335817e-01, 1.89687692e-02,\n",
       "       7.14070655e-04, 9.96105581e-01, 9.89750444e-01, 2.47239480e-03,\n",
       "       7.32111424e-01, 8.98380666e-02, 9.14808179e-07, 3.05469941e-02,\n",
       "       9.54448164e-01, 3.56504151e-01, 8.78261990e-01, 2.20241207e-02,\n",
       "       9.96622841e-01, 9.82777060e-01, 9.91595003e-01, 9.99361792e-01,\n",
       "       3.12403527e-01, 1.39722496e-01, 9.22737055e-01, 1.08185308e-03,\n",
       "       4.04981366e-03, 3.70812099e-02, 5.69035468e-02, 9.79083406e-01,\n",
       "       2.09496440e-01, 7.05408152e-02, 7.41013032e-03, 2.62262472e-02,\n",
       "       9.41168122e-01, 4.37539329e-01, 8.78855137e-01, 7.79977731e-02,\n",
       "       1.41860403e-01, 2.42594938e-03, 1.90448716e-02, 1.23256592e-01,\n",
       "       3.97432053e-05, 3.39933853e-04, 6.17982101e-04, 2.13817330e-02,\n",
       "       3.09244511e-01, 5.10369823e-02, 8.71583752e-02, 1.91012137e-01,\n",
       "       9.99278112e-01, 9.94232335e-01, 6.02799371e-01, 8.62590808e-01,\n",
       "       9.90747944e-01, 9.59598673e-01, 3.55155285e-02, 2.21589032e-01,\n",
       "       4.93714605e-01, 6.66882486e-01, 3.18500524e-03, 9.97271968e-01,\n",
       "       9.89871860e-01, 9.52242274e-03, 2.50509376e-01, 9.99960863e-01,\n",
       "       9.64513289e-01, 1.00618140e-02, 6.32414359e-06, 4.69552490e-03,\n",
       "       2.08401579e-01, 8.24934427e-01, 9.90739244e-02, 9.05210070e-01,\n",
       "       9.75835933e-01, 9.98528810e-01, 9.31219331e-01, 1.19216325e-01,\n",
       "       4.29398137e-05, 9.99583751e-01, 9.98299975e-01, 9.99213593e-01,\n",
       "       9.93109590e-01, 8.39074755e-01, 3.68080151e-04, 6.59820558e-01,\n",
       "       3.41490499e-01, 6.18402120e-04, 6.13553380e-01, 4.49173250e-05,\n",
       "       9.52841720e-01, 9.99980284e-01, 6.08315859e-02, 8.32307100e-01,\n",
       "       2.39280641e-02, 1.00382718e-03, 9.79390401e-02, 9.95070094e-01])"
      ]
     },
     "execution_count": 43,
     "metadata": {},
     "output_type": "execute_result"
    }
   ],
   "source": [
    "clf.predict_proba(X_test)[:,1]"
   ]
  },
  {
   "cell_type": "code",
   "execution_count": 49,
   "metadata": {},
   "outputs": [
    {
     "data": {
      "text/plain": [
       "GridSearchCV(cv=5, error_score='raise-deprecating',\n",
       "       estimator=LogisticRegression(C=1.0, class_weight=None, dual=False, fit_intercept=True,\n",
       "          intercept_scaling=1, max_iter=100, multi_class='warn',\n",
       "          n_jobs=None, penalty='l2', random_state=None, solver='lbfgs',\n",
       "          tol=0.0001, verbose=0, warm_start=False),\n",
       "       fit_params=None, iid='warn', n_jobs=None,\n",
       "       param_grid={'C': [0.0001, 0.001, 0.01, 0.1, 1, 10, 100, 1000, 10000]},\n",
       "       pre_dispatch='2*n_jobs', refit=True, return_train_score='warn',\n",
       "       scoring=None, verbose=0)"
      ]
     },
     "execution_count": 49,
     "metadata": {},
     "output_type": "execute_result"
    }
   ],
   "source": [
    "from sklearn.model_selection import GridSearchCV\n",
    "clf = LogisticRegression(solver=\"lbfgs\")\n",
    "parameters = {\"C\": [0.0001, 0.001, 0.01, 0.1, 1, 10, 100, 1000, 10000]}\n",
    "gs = GridSearchCV(clf, parameters, cv=5)\n",
    "gs.fit(X_train, y_train)"
   ]
  },
  {
   "cell_type": "code",
   "execution_count": 50,
   "metadata": {},
   "outputs": [
    {
     "data": {
      "text/plain": [
       "0.92"
      ]
     },
     "execution_count": 50,
     "metadata": {},
     "output_type": "execute_result"
    }
   ],
   "source": [
    "gs.score(X_test, y_test)"
   ]
  },
  {
   "cell_type": "code",
   "execution_count": 51,
   "metadata": {},
   "outputs": [
    {
     "name": "stderr",
     "output_type": "stream",
     "text": [
      "//anaconda/envs/py3l/lib/python3.6/site-packages/sklearn/utils/deprecation.py:125: FutureWarning: You are accessing a training score ('mean_train_score'), which will not be available by default any more in 0.21. If you need training scores, please set return_train_score=True\n",
      "  warnings.warn(*warn_args, **warn_kwargs)\n",
      "//anaconda/envs/py3l/lib/python3.6/site-packages/sklearn/utils/deprecation.py:125: FutureWarning: You are accessing a training score ('split0_train_score'), which will not be available by default any more in 0.21. If you need training scores, please set return_train_score=True\n",
      "  warnings.warn(*warn_args, **warn_kwargs)\n",
      "//anaconda/envs/py3l/lib/python3.6/site-packages/sklearn/utils/deprecation.py:125: FutureWarning: You are accessing a training score ('split1_train_score'), which will not be available by default any more in 0.21. If you need training scores, please set return_train_score=True\n",
      "  warnings.warn(*warn_args, **warn_kwargs)\n",
      "//anaconda/envs/py3l/lib/python3.6/site-packages/sklearn/utils/deprecation.py:125: FutureWarning: You are accessing a training score ('split2_train_score'), which will not be available by default any more in 0.21. If you need training scores, please set return_train_score=True\n",
      "  warnings.warn(*warn_args, **warn_kwargs)\n",
      "//anaconda/envs/py3l/lib/python3.6/site-packages/sklearn/utils/deprecation.py:125: FutureWarning: You are accessing a training score ('split3_train_score'), which will not be available by default any more in 0.21. If you need training scores, please set return_train_score=True\n",
      "  warnings.warn(*warn_args, **warn_kwargs)\n",
      "//anaconda/envs/py3l/lib/python3.6/site-packages/sklearn/utils/deprecation.py:125: FutureWarning: You are accessing a training score ('split4_train_score'), which will not be available by default any more in 0.21. If you need training scores, please set return_train_score=True\n",
      "  warnings.warn(*warn_args, **warn_kwargs)\n",
      "//anaconda/envs/py3l/lib/python3.6/site-packages/sklearn/utils/deprecation.py:125: FutureWarning: You are accessing a training score ('std_train_score'), which will not be available by default any more in 0.21. If you need training scores, please set return_train_score=True\n",
      "  warnings.warn(*warn_args, **warn_kwargs)\n"
     ]
    },
    {
     "data": {
      "text/plain": [
       "{'mean_fit_time': array([0.0138236 , 0.0312458 , 0.01225471, 0.00941629, 0.00723166,\n",
       "        0.00890551, 0.00748315, 0.00758357, 0.00994492]),\n",
       " 'mean_score_time': array([0.00094838, 0.0016016 , 0.0004806 , 0.00051823, 0.00045652,\n",
       "        0.00045547, 0.00048323, 0.00048051, 0.00056882]),\n",
       " 'mean_test_score': array([0.93      , 0.92666667, 0.92666667, 0.92333333, 0.92      ,\n",
       "        0.92      , 0.92      , 0.92      , 0.92      ]),\n",
       " 'mean_train_score': array([0.92833333, 0.92833333, 0.92666667, 0.92916667, 0.93083333,\n",
       "        0.93083333, 0.93083333, 0.93083333, 0.93083333]),\n",
       " 'param_C': masked_array(data=[0.0001, 0.001, 0.01, 0.1, 1, 10, 100, 1000, 10000],\n",
       "              mask=[False, False, False, False, False, False, False, False,\n",
       "                    False],\n",
       "        fill_value='?',\n",
       "             dtype=object),\n",
       " 'params': [{'C': 0.0001},\n",
       "  {'C': 0.001},\n",
       "  {'C': 0.01},\n",
       "  {'C': 0.1},\n",
       "  {'C': 1},\n",
       "  {'C': 10},\n",
       "  {'C': 100},\n",
       "  {'C': 1000},\n",
       "  {'C': 10000}],\n",
       " 'rank_test_score': array([1, 2, 2, 4, 5, 5, 5, 5, 5], dtype=int32),\n",
       " 'split0_test_score': array([0.93333333, 0.93333333, 0.93333333, 0.93333333, 0.93333333,\n",
       "        0.93333333, 0.93333333, 0.93333333, 0.93333333]),\n",
       " 'split0_train_score': array([0.92916667, 0.925     , 0.925     , 0.92916667, 0.92083333,\n",
       "        0.92083333, 0.92083333, 0.92083333, 0.92083333]),\n",
       " 'split1_test_score': array([0.91666667, 0.91666667, 0.91666667, 0.93333333, 0.93333333,\n",
       "        0.93333333, 0.93333333, 0.93333333, 0.93333333]),\n",
       " 'split1_train_score': array([0.92916667, 0.93333333, 0.925     , 0.93333333, 0.93333333,\n",
       "        0.93333333, 0.93333333, 0.93333333, 0.93333333]),\n",
       " 'split2_test_score': array([0.96666667, 0.96666667, 0.96666667, 0.96666667, 0.96666667,\n",
       "        0.96666667, 0.96666667, 0.96666667, 0.96666667]),\n",
       " 'split2_train_score': array([0.91666667, 0.91666667, 0.92083333, 0.92083333, 0.92083333,\n",
       "        0.92083333, 0.92083333, 0.92083333, 0.92083333]),\n",
       " 'split3_test_score': array([0.93333333, 0.93333333, 0.93333333, 0.9       , 0.88333333,\n",
       "        0.88333333, 0.88333333, 0.88333333, 0.88333333]),\n",
       " 'split3_train_score': array([0.92916667, 0.92916667, 0.925     , 0.925     , 0.93333333,\n",
       "        0.93333333, 0.93333333, 0.93333333, 0.93333333]),\n",
       " 'split4_test_score': array([0.9       , 0.88333333, 0.88333333, 0.88333333, 0.88333333,\n",
       "        0.88333333, 0.88333333, 0.88333333, 0.88333333]),\n",
       " 'split4_train_score': array([0.9375    , 0.9375    , 0.9375    , 0.9375    , 0.94583333,\n",
       "        0.94583333, 0.94583333, 0.94583333, 0.94583333]),\n",
       " 'std_fit_time': array([0.00550086, 0.02192145, 0.00441967, 0.00293558, 0.0019261 ,\n",
       "        0.00477534, 0.00187539, 0.00275635, 0.00535614]),\n",
       " 'std_score_time': array([4.81284653e-04, 1.36404410e-03, 6.13818159e-05, 2.31076566e-04,\n",
       "        1.04040514e-04, 8.52443750e-05, 1.01208100e-04, 1.46241347e-04,\n",
       "        1.79705584e-04]),\n",
       " 'std_test_score': array([0.02211083, 0.02708013, 0.02708013, 0.02905933, 0.03231787,\n",
       "        0.03231787, 0.03231787, 0.03231787, 0.03231787]),\n",
       " 'std_train_score': array([0.00666667, 0.0071686 , 0.00565194, 0.00589256, 0.00935414,\n",
       "        0.00935414, 0.00935414, 0.00935414, 0.00935414])}"
      ]
     },
     "execution_count": 51,
     "metadata": {},
     "output_type": "execute_result"
    }
   ],
   "source": [
    "gs.cv_results_"
   ]
  },
  {
   "cell_type": "code",
   "execution_count": 52,
   "metadata": {},
   "outputs": [
    {
     "data": {
      "text/plain": [
       "LogisticRegression(C=0.0001, class_weight=None, dual=False,\n",
       "          fit_intercept=True, intercept_scaling=1, max_iter=100,\n",
       "          multi_class='warn', n_jobs=None, penalty='l2', random_state=None,\n",
       "          solver='lbfgs', tol=0.0001, verbose=0, warm_start=False)"
      ]
     },
     "execution_count": 52,
     "metadata": {},
     "output_type": "execute_result"
    }
   ],
   "source": [
    "gs.best_estimator_"
   ]
  },
  {
   "cell_type": "code",
   "execution_count": 53,
   "metadata": {},
   "outputs": [
    {
     "data": {
      "text/plain": [
       "0.93"
      ]
     },
     "execution_count": 53,
     "metadata": {},
     "output_type": "execute_result"
    }
   ],
   "source": [
    "gs.best_score_"
   ]
  },
  {
   "cell_type": "code",
   "execution_count": 65,
   "metadata": {
    "collapsed": false
   },
   "outputs": [
    {
     "name": "stdout",
     "output_type": "stream",
     "text": [
      "using mask\n",
      "BEST {'C': 1} 0.9366666666666666\n",
      "############# based on standard predict ################\n",
      "Accuracy on training data: 0.93\n",
      "Accuracy on test data:     0.93\n",
      "[[104  12]\n",
      " [  3  81]]\n",
      "########################################################\n"
     ]
    }
   ],
   "source": [
    "from sklearn.linear_model import LogisticRegression\n",
    "parameters = {\"C\": [0.001, 0.01, 0.1, 1, 10, 100, 1000, 10000]}\n",
    "clflog = LogisticRegression(solver='lbfgs')\n",
    "clflog, Xtrain, ytrain, Xtest, ytest=do_classify(clflog, parameters, df, ['Height','Weight'],'Gender', \"Male\", mode=\"mask\", reuse_split=mask)"
   ]
  },
  {
   "cell_type": "markdown",
   "metadata": {},
   "source": [
    "In `sklearn`, `clf.predict(test_data)` makes predictions on the assumption that a 0.5 probability threshold is the appropriate thing to do. Make predictions on the test set"
   ]
  },
  {
   "cell_type": "code",
   "execution_count": 66,
   "metadata": {
    "collapsed": false
   },
   "outputs": [
    {
     "data": {
      "text/plain": [
       "array([0, 0, 1, 1, 1, 1, 1, 1, 0, 1, 1, 1, 0, 1, 0, 0, 1, 0, 1, 0, 1, 1,\n",
       "       0, 1, 0, 0, 0, 0, 1, 0, 1, 1, 0, 0, 0, 1, 1, 0, 0, 0, 1, 1, 0, 1,\n",
       "       0, 0, 0, 0, 0, 0, 1, 1, 1, 0, 0, 1, 1, 1, 0, 1, 0, 0, 0, 0, 0, 0,\n",
       "       0, 0, 0, 0, 1, 1, 1, 0, 1, 0, 1, 0, 1, 0, 1, 0, 0, 1, 1, 0, 0, 0,\n",
       "       1, 0, 1, 0, 1, 0, 1, 0, 0, 1, 1, 1, 1, 1, 0, 0, 0, 1, 0, 0, 0, 0,\n",
       "       1, 0, 0, 1, 0, 1, 1, 1, 1, 1, 0, 1, 1, 1, 0, 1, 1, 1, 0, 0, 0, 0,\n",
       "       0, 1, 1, 1, 1, 0, 0, 1, 1, 0, 1, 0, 0, 0, 1, 1, 0, 1, 1, 0, 0, 0,\n",
       "       0, 0, 1, 1, 1, 0, 1, 1, 0, 0, 1, 1, 0, 0, 0, 0, 0, 0, 1, 0, 1, 0,\n",
       "       0, 0, 0, 0, 0, 1, 0, 1, 0, 1, 1, 1, 1, 0, 0, 1, 0, 0, 1, 1, 1, 1,\n",
       "       0, 0])"
      ]
     },
     "execution_count": 66,
     "metadata": {},
     "output_type": "execute_result"
    }
   ],
   "source": [
    "# your code here\n",
    "clflog.predict(Xtest)"
   ]
  },
  {
   "cell_type": "markdown",
   "metadata": {},
   "source": [
    "In `sklearn`, `predict_proba` gives us the probabilities. Find the probabilities on the test set."
   ]
  },
  {
   "cell_type": "code",
   "execution_count": 67,
   "metadata": {
    "collapsed": false
   },
   "outputs": [
    {
     "data": {
      "text/plain": [
       "array([[9.98936181e-01, 1.06381917e-03],\n",
       "       [6.02580993e-01, 3.97419007e-01],\n",
       "       [1.17289745e-01, 8.82710255e-01],\n",
       "       [7.52247829e-03, 9.92477522e-01],\n",
       "       [2.18550647e-01, 7.81449353e-01],\n",
       "       [8.47828671e-02, 9.15217133e-01],\n",
       "       [9.20787509e-03, 9.90792125e-01],\n",
       "       [2.65839733e-02, 9.73416027e-01],\n",
       "       [9.80683956e-01, 1.93160438e-02],\n",
       "       [2.36118551e-01, 7.63881449e-01],\n",
       "       [2.04102544e-01, 7.95897456e-01],\n",
       "       [4.09994580e-01, 5.90005420e-01],\n",
       "       [5.44517307e-01, 4.55482693e-01],\n",
       "       [1.78613969e-02, 9.82138603e-01],\n",
       "       [9.92477514e-01, 7.52248609e-03],\n",
       "       [7.75071060e-01, 2.24928940e-01],\n",
       "       [2.89746285e-02, 9.71025372e-01],\n",
       "       [9.13010204e-01, 8.69897959e-02],\n",
       "       [2.85871493e-01, 7.14128507e-01],\n",
       "       [9.48984937e-01, 5.10150632e-02],\n",
       "       [4.67935613e-03, 9.95320644e-01],\n",
       "       [2.49495794e-01, 7.50504206e-01],\n",
       "       [9.66120722e-01, 3.38792781e-02],\n",
       "       [3.34370314e-04, 9.99665630e-01],\n",
       "       [9.11072278e-01, 8.89277219e-02],\n",
       "       [9.38434178e-01, 6.15658215e-02],\n",
       "       [8.35412348e-01, 1.64587652e-01],\n",
       "       [9.99010853e-01, 9.89147153e-04],\n",
       "       [1.09125784e-01, 8.90874216e-01],\n",
       "       [9.91209931e-01, 8.79006926e-03],\n",
       "       [4.57880913e-01, 5.42119087e-01],\n",
       "       [3.44512730e-02, 9.65548727e-01],\n",
       "       [8.25471210e-01, 1.74528790e-01],\n",
       "       [9.96160419e-01, 3.83958068e-03],\n",
       "       [9.94887093e-01, 5.11290686e-03],\n",
       "       [2.59701615e-02, 9.74029838e-01],\n",
       "       [4.59583839e-01, 5.40416161e-01],\n",
       "       [7.33229525e-01, 2.66770475e-01],\n",
       "       [9.72975001e-01, 2.70249993e-02],\n",
       "       [9.67264232e-01, 3.27357684e-02],\n",
       "       [1.25112195e-02, 9.87488780e-01],\n",
       "       [3.57436048e-01, 6.42563952e-01],\n",
       "       [8.57539032e-01, 1.42460968e-01],\n",
       "       [9.55604939e-04, 9.99044395e-01],\n",
       "       [8.02818424e-01, 1.97181576e-01],\n",
       "       [9.95636657e-01, 4.36334287e-03],\n",
       "       [9.90773381e-01, 9.22661856e-03],\n",
       "       [9.82217257e-01, 1.77827432e-02],\n",
       "       [8.63796349e-01, 1.36203651e-01],\n",
       "       [9.97819226e-01, 2.18077431e-03],\n",
       "       [2.09717472e-01, 7.90282528e-01],\n",
       "       [4.81459862e-01, 5.18540138e-01],\n",
       "       [1.50327587e-03, 9.98496724e-01],\n",
       "       [9.75522668e-01, 2.44773321e-02],\n",
       "       [9.60953747e-01, 3.90462533e-02],\n",
       "       [6.33353144e-03, 9.93666469e-01],\n",
       "       [1.72348181e-01, 8.27651819e-01],\n",
       "       [1.95364688e-01, 8.04635312e-01],\n",
       "       [9.94306919e-01, 5.69308088e-03],\n",
       "       [6.22988132e-02, 9.37701187e-01],\n",
       "       [9.68739276e-01, 3.12607241e-02],\n",
       "       [8.58695841e-01, 1.41304159e-01],\n",
       "       [9.12705899e-01, 8.72941006e-02],\n",
       "       [9.77843987e-01, 2.21560126e-02],\n",
       "       [9.99348042e-01, 6.51958276e-04],\n",
       "       [9.88197921e-01, 1.18020793e-02],\n",
       "       [7.46432922e-01, 2.53567078e-01],\n",
       "       [6.34530957e-01, 3.65469043e-01],\n",
       "       [9.90064026e-01, 9.93597392e-03],\n",
       "       [8.92815083e-01, 1.07184917e-01],\n",
       "       [1.15922947e-01, 8.84077053e-01],\n",
       "       [9.35220141e-02, 9.06477986e-01],\n",
       "       [4.34870669e-03, 9.95651293e-01],\n",
       "       [9.98945731e-01, 1.05426950e-03],\n",
       "       [4.97147500e-01, 5.02852500e-01],\n",
       "       [9.90769555e-01, 9.23044504e-03],\n",
       "       [1.12461982e-01, 8.87538018e-01],\n",
       "       [9.97740832e-01, 2.25916813e-03],\n",
       "       [8.73221662e-02, 9.12677834e-01],\n",
       "       [8.12431883e-01, 1.87568117e-01],\n",
       "       [2.64166490e-03, 9.97358335e-01],\n",
       "       [9.14817829e-01, 8.51821707e-02],\n",
       "       [8.49148933e-01, 1.50851067e-01],\n",
       "       [2.09371177e-02, 9.79062882e-01],\n",
       "       [2.59225116e-04, 9.99740775e-01],\n",
       "       [6.58332129e-01, 3.41667871e-01],\n",
       "       [9.71950265e-01, 2.80497350e-02],\n",
       "       [6.07846337e-01, 3.92153663e-01],\n",
       "       [6.33815658e-02, 9.36618434e-01],\n",
       "       [8.46432222e-01, 1.53567778e-01],\n",
       "       [5.20647467e-02, 9.47935253e-01],\n",
       "       [9.99784169e-01, 2.15830548e-04],\n",
       "       [1.67280598e-01, 8.32719402e-01],\n",
       "       [8.89870274e-01, 1.10129726e-01],\n",
       "       [1.88761951e-02, 9.81123805e-01],\n",
       "       [9.94638205e-01, 5.36179459e-03],\n",
       "       [9.31863962e-01, 6.81360378e-02],\n",
       "       [2.78263295e-02, 9.72173671e-01],\n",
       "       [8.01290724e-03, 9.91987093e-01],\n",
       "       [3.58114024e-01, 6.41885976e-01],\n",
       "       [5.71406317e-02, 9.42859368e-01],\n",
       "       [7.69500024e-02, 9.23049998e-01],\n",
       "       [6.77506423e-01, 3.22493577e-01],\n",
       "       [9.59665575e-01, 4.03344252e-02],\n",
       "       [9.87761715e-01, 1.22382850e-02],\n",
       "       [4.20555608e-02, 9.57944439e-01],\n",
       "       [9.98761621e-01, 1.23837890e-03],\n",
       "       [9.98535656e-01, 1.46434391e-03],\n",
       "       [7.91161859e-01, 2.08838141e-01],\n",
       "       [5.99061408e-01, 4.00938592e-01],\n",
       "       [1.11328641e-02, 9.88867136e-01],\n",
       "       [9.74516054e-01, 2.54839457e-02],\n",
       "       [9.95092869e-01, 4.90713127e-03],\n",
       "       [1.03111589e-02, 9.89688841e-01],\n",
       "       [9.97775633e-01, 2.22436671e-03],\n",
       "       [2.90212615e-01, 7.09787385e-01],\n",
       "       [3.00306042e-01, 6.99693958e-01],\n",
       "       [1.92629625e-03, 9.98073704e-01],\n",
       "       [6.95357438e-04, 9.99304643e-01],\n",
       "       [6.89247786e-03, 9.93107522e-01],\n",
       "       [8.04982593e-01, 1.95017407e-01],\n",
       "       [1.67877812e-01, 8.32122188e-01],\n",
       "       [7.39171158e-04, 9.99260829e-01],\n",
       "       [4.77336439e-03, 9.95226636e-01],\n",
       "       [9.64439204e-01, 3.55607961e-02],\n",
       "       [2.85976425e-03, 9.97140236e-01],\n",
       "       [3.01691770e-02, 9.69830823e-01],\n",
       "       [2.22485209e-02, 9.77751479e-01],\n",
       "       [9.93404897e-01, 6.59510278e-03],\n",
       "       [5.79476264e-01, 4.20523736e-01],\n",
       "       [6.98389525e-01, 3.01610475e-01],\n",
       "       [9.98852905e-01, 1.14709504e-03],\n",
       "       [8.44318407e-01, 1.55681593e-01],\n",
       "       [5.89793411e-02, 9.41020659e-01],\n",
       "       [5.61005433e-02, 9.43899457e-01],\n",
       "       [1.71527564e-01, 8.28472436e-01],\n",
       "       [3.63210580e-02, 9.63678942e-01],\n",
       "       [9.15344334e-01, 8.46556656e-02],\n",
       "       [9.43549785e-01, 5.64502150e-02],\n",
       "       [2.15185771e-04, 9.99784814e-01],\n",
       "       [2.03088329e-02, 9.79691167e-01],\n",
       "       [9.98137057e-01, 1.86294345e-03],\n",
       "       [5.85459619e-02, 9.41454038e-01],\n",
       "       [9.97943532e-01, 2.05646793e-03],\n",
       "       [8.05978482e-01, 1.94021518e-01],\n",
       "       [5.33292152e-01, 4.66707848e-01],\n",
       "       [3.84086874e-01, 6.15913126e-01],\n",
       "       [1.21184329e-01, 8.78815671e-01],\n",
       "       [9.85633760e-01, 1.43662399e-02],\n",
       "       [3.67761836e-01, 6.32238164e-01],\n",
       "       [4.64530326e-01, 5.35469674e-01],\n",
       "       [9.90124459e-01, 9.87554069e-03],\n",
       "       [9.09323838e-01, 9.06761620e-02],\n",
       "       [7.13560528e-01, 2.86439472e-01],\n",
       "       [5.03886616e-01, 4.96113384e-01],\n",
       "       [9.51299620e-01, 4.87003798e-02],\n",
       "       [2.56201679e-01, 7.43798321e-01],\n",
       "       [2.73274252e-02, 9.72672575e-01],\n",
       "       [4.17130235e-02, 9.58286977e-01],\n",
       "       [9.44693732e-01, 5.53062678e-02],\n",
       "       [8.75207335e-03, 9.91247927e-01],\n",
       "       [4.83275973e-01, 5.16724027e-01],\n",
       "       [9.90833233e-01, 9.16676709e-03],\n",
       "       [6.04199547e-01, 3.95800453e-01],\n",
       "       [2.41784446e-02, 9.75821555e-01],\n",
       "       [1.77759196e-03, 9.98222408e-01],\n",
       "       [9.56205008e-01, 4.37949916e-02],\n",
       "       [9.81674829e-01, 1.83251711e-02],\n",
       "       [9.62642995e-01, 3.73570053e-02],\n",
       "       [6.13101962e-01, 3.86898038e-01],\n",
       "       [8.40302963e-01, 1.59697037e-01],\n",
       "       [9.70380954e-01, 2.96190463e-02],\n",
       "       [1.65337886e-01, 8.34662114e-01],\n",
       "       [9.95504914e-01, 4.49508574e-03],\n",
       "       [6.65734542e-02, 9.33426546e-01],\n",
       "       [9.50489569e-01, 4.95104308e-02],\n",
       "       [9.97324207e-01, 2.67579254e-03],\n",
       "       [9.94897746e-01, 5.10225399e-03],\n",
       "       [5.59458039e-01, 4.40541961e-01],\n",
       "       [9.79472720e-01, 2.05272803e-02],\n",
       "       [9.01792922e-01, 9.82070779e-02],\n",
       "       [2.75189632e-01, 7.24810368e-01],\n",
       "       [9.99984024e-01, 1.59756784e-05],\n",
       "       [3.69101715e-02, 9.63089829e-01],\n",
       "       [8.70137764e-01, 1.29862236e-01],\n",
       "       [1.68848088e-02, 9.83115191e-01],\n",
       "       [4.38617343e-01, 5.61382657e-01],\n",
       "       [4.55051595e-04, 9.99544948e-01],\n",
       "       [6.79976595e-03, 9.93200234e-01],\n",
       "       [9.69552757e-01, 3.04472429e-02],\n",
       "       [9.94343982e-01, 5.65601819e-03],\n",
       "       [1.09868369e-02, 9.89013163e-01],\n",
       "       [9.94675244e-01, 5.32475554e-03],\n",
       "       [8.46661066e-01, 1.53338934e-01],\n",
       "       [2.07355250e-01, 7.92644750e-01],\n",
       "       [2.16800081e-02, 9.78319992e-01],\n",
       "       [9.18919627e-03, 9.90810804e-01],\n",
       "       [2.14238639e-01, 7.85761361e-01],\n",
       "       [9.47570737e-01, 5.24292628e-02],\n",
       "       [8.00286901e-01, 1.99713099e-01]])"
      ]
     },
     "execution_count": 67,
     "metadata": {},
     "output_type": "execute_result"
    }
   ],
   "source": [
    "clflog.predict_proba(Xtest)"
   ]
  },
  {
   "cell_type": "markdown",
   "metadata": {},
   "source": [
    "What do these probabilities correspond to? The second column (`[:,1]` in numpy parlance, google numpy indexing to understand the syntax) gives the probability that the sample is a 1 (or +ive), here Male.\n",
    "\n",
    "Make a histogram of these probabilities. Interpret them."
   ]
  },
  {
   "cell_type": "code",
   "execution_count": 68,
   "metadata": {
    "collapsed": false
   },
   "outputs": [
    {
     "data": {
      "image/png": "[encoded data removed]",
      "text/plain": [
       "<Figure size 432x288 with 1 Axes>"
      ]
     },
     "metadata": {},
     "output_type": "display_data"
    }
   ],
   "source": [
    "# your code here\n",
    "plt.hist(clflog.predict_proba(Xtest)[:,1]);"
   ]
  },
  {
   "cell_type": "markdown",
   "metadata": {},
   "source": [
    "Lots of sure females and sure males when you plot the probability of being a male. \n",
    "\n",
    "At this point you might want to see how this histogram looks in the 2 dimensional space of our predictors."
   ]
  },
  {
   "cell_type": "code",
   "execution_count": 69,
   "metadata": {
    "collapsed": false
   },
   "outputs": [
    {
     "data": {
      "image/png": "[encoded data removed]",
      "text/plain": [
       "<Figure size 432x288 with 1 Axes>"
      ]
     },
     "metadata": {},
     "output_type": "display_data"
    }
   ],
   "source": [
    "Xtr=np.concatenate((Xtrain, Xtest))\n",
    "plt.figure()\n",
    "ax=plt.gca()\n",
    "with sns.plotting_context('poster'):\n",
    "    points_plot(ax, Xtrain, Xtest, ytrain, ytest, clflog);"
   ]
  },
  {
   "cell_type": "markdown",
   "metadata": {},
   "source": [
    "We can plot the probability contours: these are rather tight!"
   ]
  },
  {
   "cell_type": "code",
   "execution_count": 70,
   "metadata": {
    "collapsed": false
   },
   "outputs": [
    {
     "name": "stderr",
     "output_type": "stream",
     "text": [
      "//anaconda/envs/py3l/lib/python3.6/site-packages/matplotlib/contour.py:1000: UserWarning: The following kwargs were not used by contour: 'axes'\n",
      "  s)\n"
     ]
    },
    {
     "data": {
      "image/png": "[encoded data removed]",
      "text/plain": [
       "<Figure size 432x288 with 1 Axes>"
      ]
     },
     "metadata": {},
     "output_type": "display_data"
    }
   ],
   "source": [
    "plt.figure()\n",
    "ax=plt.gca()\n",
    "points_plot(ax, Xtrain, Xtest, ytrain, ytest, clflog, mesh=False, alpha=0.001);\n",
    "points_plot_prob(ax, Xtrain, Xtest, ytrain, ytest, clflog);"
   ]
  },
  {
   "cell_type": "markdown",
   "metadata": {},
   "source": [
    "The score function of the estimator is used to evaluate a parameter setting. These are the sklearn.metrics.accuracy_score for classification and sklearn.metrics.r2_score for regression. For some applications, other scoring functions are better suited (for example in unbalanced classification, the accuracy score is often uninformative). We can pass other scorers to `GridSearchCV`."
   ]
  },
  {
   "cell_type": "code",
   "execution_count": 71,
   "metadata": {
    "collapsed": false
   },
   "outputs": [
    {
     "data": {
      "text/plain": [
       "0.925"
      ]
     },
     "execution_count": 71,
     "metadata": {},
     "output_type": "execute_result"
    }
   ],
   "source": [
    "clflog.score(Xtest, ytest)"
   ]
  },
  {
   "cell_type": "markdown",
   "metadata": {},
   "source": [
    "## The confusion Matrix"
   ]
  },
  {
   "cell_type": "markdown",
   "metadata": {},
   "source": [
    " A classifier will get some samples right, and some wrong. Generally we see which ones it gets right and which ones it gets wrong on the test set. There,\n",
    "\n",
    "- the samples that are +ive and the classifier predicts as +ive are called True Positives (TP)\n",
    "- the samples that are -ive and the classifier predicts (wrongly) as +ive are called False Positives (FP)\n",
    "- the samples that are -ive and the classifier predicts as -ive are called True Negatives (TN)\n",
    "- the samples that are +ive and the classifier predicts as -ive are called False Negatives (FN)\n",
    "\n",
    "A classifier produces a confusion matrix from these which lookslike this:\n",
    "\n",
    "![hwimages](./images/confusionmatrix.png)\n",
    "\n",
    "\n",
    "IMPORTANT NOTE: In sklearn, to obtain the confusion matrix in the form above, always have the observed `y` first, i.e.: use as `confusion_matrix(y_true, y_pred)`"
   ]
  },
  {
   "cell_type": "code",
   "execution_count": 72,
   "metadata": {
    "collapsed": false
   },
   "outputs": [
    {
     "data": {
      "text/plain": [
       "array([[104,  12],\n",
       "       [  3,  81]])"
      ]
     },
     "execution_count": 72,
     "metadata": {},
     "output_type": "execute_result"
    }
   ],
   "source": [
    "confusion_matrix(ytest, clflog.predict(Xtest))"
   ]
  },
  {
   "cell_type": "markdown",
   "metadata": {},
   "source": [
    "Given these definitions, we typically calculate a few metrics for our classifier. First, the **True Positive Rate**:\n",
    "\n",
    "$$TPR = Recall = \\frac{TP}{OP} = \\frac{TP}{TP+FN},$$\n",
    "\n",
    "also called the Hit Rate: the fraction of observed positives (1s) the classifier gets right, or how many true positives were recalled. Maximizing the recall towards 1 means keeping down the false negative rate. In a classifier try to find cancer patients, this is the number we want to maximize.\n",
    "\n",
    "The **False Positive Rate** is defined as\n",
    "\n",
    "$$FPR = \\frac{FP}{ON} = \\frac{FP}{FP+TN},$$\n",
    "\n",
    "also called the False Alarm Rate, the fraction of observed negatives (0s) the classifier gets wrong. In general, you want this number to be low. Instead, you might want to maximize the\n",
    "**Precision**,which tells you how many of the predicted positive(1) hits were truly positive\n",
    "\n",
    "$$Precision = \\frac{TP}{PP} = \\frac{TP}{TP+FP}.$$\n",
    "\n",
    "Finally the **F1** score gives us the Harmonic Score of Precision and Recall. Many analysts will try and find a classifier that maximizes this score, since it tries to minimize both false positives and false negatives simultaneously, and is thus a bit more precise in what it is trying to do than the accuracy.\n",
    "\n",
    "$$F1 =  \\frac{2*Recall*Precision}{Recall + Precision}$$\n",
    "\n",
    "However, in a case like that of a cancer classifier, we will wish to minimize false nagatives at the expense of false positives: it is ok to send perfectly healthy patients for cancer folloup if that is the price we must pay for not missing any sick ones.\n",
    "\n",
    "`scikit-learn` helpfully gives us a classification report with all these numbers"
   ]
  },
  {
   "cell_type": "code",
   "execution_count": 73,
   "metadata": {
    "collapsed": false
   },
   "outputs": [
    {
     "name": "stdout",
     "output_type": "stream",
     "text": [
      "              precision    recall  f1-score   support\n",
      "\n",
      "           0       0.97      0.90      0.93       116\n",
      "           1       0.87      0.96      0.92        84\n",
      "\n",
      "   micro avg       0.93      0.93      0.93       200\n",
      "   macro avg       0.92      0.93      0.92       200\n",
      "weighted avg       0.93      0.93      0.93       200\n",
      "\n"
     ]
    }
   ],
   "source": [
    "from sklearn.metrics import classification_report\n",
    "print(classification_report(ytest, clflog.predict(Xtest)))"
   ]
  },
  {
   "cell_type": "markdown",
   "metadata": {},
   "source": [
    "#### The cancer doctor\n",
    "\n",
    "Do you really want to be setting a threshold of 0.5 probability to predict if a patient has cancer or not? The false negative problem: ie the chance you predict someone dosent have cancer who has cancer is much higher for such a threshold. You could kill someone by telling them not to get a biopsy. Why not play it safe and assume a much lower threshold: for eg, if the probability of 1(cancer) is greater than 0.05, we'll call it a 1.\n",
    "\n",
    "Write a function `t_repredict(est,t, Xtest)` which takes your classifier, a probability threshold, and a  features set in the canonical form, and returns a set of predictions."
   ]
  },
  {
   "cell_type": "code",
   "execution_count": 74,
   "metadata": {
    "collapsed": true
   },
   "outputs": [],
   "source": [
    "# your code here\n",
    "def t_repredict(clf, t, Xtest):\n",
    "    return 1*(clf.predict_proba(Xtest)[:,1] >= t)"
   ]
  },
  {
   "cell_type": "markdown",
   "metadata": {},
   "source": [
    "Print the confusion matrix to see how the false negatives get suppressed?"
   ]
  },
  {
   "cell_type": "code",
   "execution_count": 76,
   "metadata": {},
   "outputs": [
    {
     "data": {
      "text/plain": [
       "array([[104,  12],\n",
       "       [  3,  81]])"
      ]
     },
     "execution_count": 76,
     "metadata": {},
     "output_type": "execute_result"
    }
   ],
   "source": [
    "confusion_matrix(ytest, t_repredict(clflog, 0.5, Xtest))"
   ]
  },
  {
   "cell_type": "code",
   "execution_count": 81,
   "metadata": {
    "collapsed": false
   },
   "outputs": [
    {
     "data": {
      "text/plain": [
       "array([[76, 40],\n",
       "       [ 0, 84]])"
      ]
     },
     "execution_count": 81,
     "metadata": {},
     "output_type": "execute_result"
    }
   ],
   "source": [
    "# your code here\n",
    "confusion_matrix(ytest, t_repredict(clflog, 0.15, Xtest))"
   ]
  },
  {
   "cell_type": "code",
   "execution_count": 82,
   "metadata": {},
   "outputs": [
    {
     "data": {
      "text/plain": [
       "array([[114,   2],\n",
       "       [ 28,  56]])"
      ]
     },
     "execution_count": 82,
     "metadata": {},
     "output_type": "execute_result"
    }
   ],
   "source": [
    "confusion_matrix(ytest, t_repredict(clflog, 0.9, Xtest))"
   ]
  },
  {
   "cell_type": "code",
   "execution_count": null,
   "metadata": {},
   "outputs": [],
   "source": []
  }
 ],
 "metadata": {
  "kernelspec": {
   "display_name": "Python 3",
   "language": "python",
   "name": "python3"
  },
  "language_info": {
   "codemirror_mode": {
    "name": "ipython",
    "version": 3
   },
   "file_extension": ".py",
   "mimetype": "text/x-python",
   "name": "python",
   "nbconvert_exporter": "python",
   "pygments_lexer": "ipython3",
   "version": "3.6.8"
  }
 },
 "nbformat": 4,
 "nbformat_minor": 2
}
